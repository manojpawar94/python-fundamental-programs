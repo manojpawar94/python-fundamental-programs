{
  "nbformat": 4,
  "nbformat_minor": 0,
  "metadata": {
    "colab": {
      "name": "PythonExercises.ipynb",
      "provenance": [],
      "authorship_tag": "ABX9TyNiIaDala8Ps/aEuAsqfrEL",
      "include_colab_link": true
    },
    "kernelspec": {
      "name": "python3",
      "display_name": "Python 3"
    }
  },
  "cells": [
    {
      "cell_type": "markdown",
      "metadata": {
        "id": "view-in-github",
        "colab_type": "text"
      },
      "source": [
        "<a href=\"https://colab.research.google.com/github/manojpawar94/python-fundamental-programs/blob/master/PythonExercises.ipynb\" target=\"_parent\"><img src=\"https://colab.research.google.com/assets/colab-badge.svg\" alt=\"Open In Colab\"/></a>"
      ]
    },
    {
      "cell_type": "markdown",
      "metadata": {
        "id": "b4o1DUcgRpyu"
      },
      "source": [
        "## Exercise 1:\n",
        "Create a program that asks the user how far they want to travel. If they want to travel less than\n",
        "three miles tell them to walk. If they want to travel more than three miles, but less than three\n",
        "hundred miles, tell them to drive. If they want to travel three hundred miles or more tell them to\n",
        "fly.\n",
        "\n",
        "Sample Output:\n",
        "```\n",
        "How far would you like to travel in miles? 2500\n",
        "I suggest flying to your destination.\n",
        "```\n",
        "\n"
      ]
    },
    {
      "cell_type": "code",
      "metadata": {
        "id": "pmlgSBfPR9MR",
        "outputId": "da8889d3-2827-46bf-eb81-f9a656b31bee",
        "colab": {
          "base_uri": "https://localhost:8080/",
          "height": 51
        }
      },
      "source": [
        "distance = int(input('How far would you like to travel in miles? : '))\n",
        "\n",
        "if distance < 3 :\n",
        "    print('I suggest walking to your destination.')\n",
        "elif distance > 3 and distance < 300 :\n",
        "    print('I suggest driving to your destination')\n",
        "else :\n",
        "    print('I suggest flying to your destination')"
      ],
      "execution_count": 3,
      "outputs": [
        {
          "output_type": "stream",
          "text": [
            "How far would you like to travel in miles? : 12\n",
            "I suggest driving to your destination\n"
          ],
          "name": "stdout"
        }
      ]
    },
    {
      "cell_type": "markdown",
      "metadata": {
        "id": "ru1co15iToZi"
      },
      "source": [
        "## Exercise 2:\n",
        "Let's assume you are planning to use your Python skills to build a social networking service. You decide to host your application on servers running in the cloud. You pick a hosting provider that charges $0.51 per hour. You will launch your service using one server and want to know how much it will cost to operate per day and per month.\n",
        "\n",
        "Write a Python program that displays the answers to the following questions:\n",
        "* How much does it cost to operate one server per day?\n",
        "* How much does it cost to operate one server per month?\n",
        "\n"
      ]
    },
    {
      "cell_type": "code",
      "metadata": {
        "id": "USk9NwBATsT2",
        "outputId": "40819598-03be-4245-e713-5e865d995313",
        "colab": {
          "base_uri": "https://localhost:8080/",
          "height": 51
        }
      },
      "source": [
        "chargesPerHour =  0.51\n",
        "chargesPerDay = 24 * chargesPerHour\n",
        "chargesPerMonth = 30 * chargesPerDay\n",
        "print('It will charge', chargesPerDay, 'dollars per day to operate one server.')\n",
        "print('It will charge', chargesPerMonth, 'dollars per Month to operate one server.')"
      ],
      "execution_count": 4,
      "outputs": [
        {
          "output_type": "stream",
          "text": [
            "It will charge 12.24 dollar per day to operate one server.\n",
            "It will charge 367.2 dollar per Month to operate one server.\n"
          ],
          "name": "stdout"
        }
      ]
    },
    {
      "cell_type": "markdown",
      "metadata": {
        "id": "jGY7axfWVI2d"
      },
      "source": [
        "## Exercise 3:\n",
        "Building on the previous example, let's also assume that you have saved $918 to fund your new adventure. You wonder how many days you can keep one server running before your money runs out. Of course, you hope your social network becomes popular and requires 20 servers to keep up with the demand. How much will it cost to operate at that point?\n",
        "\n",
        "Write a Python program that displays the answers to the following questions: \n",
        "* How much does it cost to operate one server per day?\n",
        "* How much does it cost to operate one server per month?\n",
        "* How much does it cost to operate twenty servers per day?\n",
        "* How much does it cost to operate twenty servers per month? \n",
        "* How many days can I operate one server with $918?"
      ]
    },
    {
      "cell_type": "code",
      "metadata": {
        "id": "wa4EouBMVqhn",
        "outputId": "573f8ed5-27e8-4d0d-a7e7-3a701684b5e4",
        "colab": {
          "base_uri": "https://localhost:8080/",
          "height": 102
        }
      },
      "source": [
        "import math\n",
        "\n",
        "balancedAmt = 918\n",
        "chargesPerDayPer20Servers = chargesPerDay *20\n",
        "chargesPerMonthPer20Servers = chargesPerMonth * 20\n",
        "noOfDayWithCost = math.floor(balancedAmt / chargesPerDay)\n",
        "\n",
        "print('It will charge', chargesPerDay, 'dollars per day to operate one server.')\n",
        "print('It will charge', chargesPerMonth, 'dollars per Month to operate one server.')\n",
        "print('It will charge', chargesPerDayPer20Servers, 'dollars per day to operate Twenty servers.')\n",
        "print('It will charge', chargesPerMonthPer20Servers, 'dollars per Month to operate Twenty servers.')\n",
        "print('I can operate on server with', balancedAmt,'dollars for', noOfDayWithCost, 'days.')"
      ],
      "execution_count": 10,
      "outputs": [
        {
          "output_type": "stream",
          "text": [
            "It will charge 12.24 dollars per day to operate one server.\n",
            "It will charge 367.2 dollars per Month to operate one server.\n",
            "It will charge 244.8 dollars per day to operate Twenty servers.\n",
            "It will charge 7344.0 dollars per Month to operate Twenty servers.\n",
            "I can operate on server with 918 dollars for 75 days.\n"
          ],
          "name": "stdout"
        }
      ]
    },
    {
      "cell_type": "markdown",
      "metadata": {
        "id": "19E3cEdrX_HR"
      },
      "source": [
        "## Exercise 4:\n",
        "Write a Python program that uses three variables. The variables in your program will be animal, vegetable, and mineral. Assign a string value to each one of the variables. Your program should display \"Here is an animal, a vegetable, and a mineral.\" Next, display the value for animal, followed by vegetable, and finally mineral. Each one of the values should be printed on their own line. Your program will display four lines in total.\n",
        "\n",
        "Sample Output:\n",
        "```\n",
        "Here is an animal, a vegetable, and a mineral.\n",
        "cat\n",
        "broccoli\n",
        "gold\n",
        "```"
      ]
    },
    {
      "cell_type": "code",
      "metadata": {
        "id": "cGBxCAccYgfl",
        "outputId": "427b3c97-d9a8-44cd-b21e-9c8940842341",
        "colab": {
          "base_uri": "https://localhost:8080/",
          "height": 85
        }
      },
      "source": [
        "animal = 'Cat'\n",
        "vegetable = 'Broccoli'\n",
        "mineral = 'Gold'\n",
        "print('Here is an animal, a vegetable, and a mineral.')\n",
        "print(animal)\n",
        "print(vegetable)\n",
        "print(mineral)"
      ],
      "execution_count": 11,
      "outputs": [
        {
          "output_type": "stream",
          "text": [
            "Here is an animal, a vegetable, and a mineral.\n",
            "Cat\n",
            "Broccoli\n",
            "Gold\n"
          ],
          "name": "stdout"
        }
      ]
    },
    {
      "cell_type": "markdown",
      "metadata": {
        "id": "YiLrgtqwZI8K"
      },
      "source": [
        "## Exercise 5:\n",
        "Write a Python program that prompts the user for input and simply repeats what the user entered.\n",
        "\n",
        "\n",
        "Sample output:\n",
        "```\n",
        "Please type something and press enter: Hello there! \n",
        "You entered:\n",
        "Hello there!\n",
        "```\n",
        "\n"
      ]
    },
    {
      "cell_type": "code",
      "metadata": {
        "id": "NWbAcXPkZbAK",
        "outputId": "f2ad2d9e-7559-4b2a-b5ec-d1baa1280182",
        "colab": {
          "base_uri": "https://localhost:8080/",
          "height": 68
        }
      },
      "source": [
        "strInput = input('Please type something and press enter:')\n",
        "print('You entered:')\n",
        "print(strInput)"
      ],
      "execution_count": 12,
      "outputs": [
        {
          "output_type": "stream",
          "text": [
            "Please type something and press enter:Hello there!\n",
            "You entered:\n",
            "Hello there!\n"
          ],
          "name": "stdout"
        }
      ]
    },
    {
      "cell_type": "markdown",
      "metadata": {
        "id": "wZ2N74KTaQH5"
      },
      "source": [
        "## Exercise 6:\n",
        "Create a Python program that captures and displays a person's to­do list. Continually prompt the user for another item until they enter a blank item. After all the items are entered, display the to­do list back to the user.\n",
        "\n",
        "Sample Output:\n",
        "```\n",
        "Enter a task for your to­do list. Press <enter> when done: Buy cat food.\n",
        "Task added.\n",
        "Enter a task for your to­do list. Press <enter> when done: Mow the lawn.\n",
        "Task added.\n",
        "Enter a task for your to­do list. Press <enter> when done: Take over the world.\n",
        "Task added.\n",
        "Enter a task for your to­do list. Press <enter> when done:\n",
        "Your To­Do List: ­­­­­­­­­­­­­­­­ \n",
        "------------------\n",
        "Buy cat food.\n",
        "Mow the lawn.\n",
        "Take over the world.\n",
        "```\n",
        "\n"
      ]
    },
    {
      "cell_type": "code",
      "metadata": {
        "id": "DPMRvyn8bEls",
        "outputId": "88b81c97-9de3-4de8-e46e-5d61caa0d0c5",
        "colab": {
          "base_uri": "https://localhost:8080/",
          "height": 170
        }
      },
      "source": [
        "todoList = []\n",
        "while(True):\n",
        "    todoItem = input('Enter a task for your to­do list. Press <enter> when done:')\n",
        "    if todoItem.strip() == '':\n",
        "        break\n",
        "    todoList.append(todoItem)\n",
        "print('Your ToDo List:')\n",
        "print('---------------')\n",
        "for todoItem in todoList:\n",
        "    print(todoItem)"
      ],
      "execution_count": 15,
      "outputs": [
        {
          "output_type": "stream",
          "text": [
            "Enter a task for your to­do list. Press <enter> when done:Buy cat food.\n",
            "Enter a task for your to­do list. Press <enter> when done:Mow the lawn.\n",
            "Enter a task for your to­do list. Press <enter> when done:Take over the world.\n",
            "Enter a task for your to­do list. Press <enter> when done:\n",
            "Your ToDo List:\n",
            "---------------\n",
            "Buy cat food.\n",
            "Mow the lawn.\n",
            "Take over the world.\n"
          ],
          "name": "stdout"
        }
      ]
    },
    {
      "cell_type": "markdown",
      "metadata": {
        "id": "D0e20jUNctbs"
      },
      "source": [
        "## Exercise 7:\n",
        "Create a list of airports that includes a series of tuples containing an airport's name and its code. Loop through the list and utilize tuple assignment. Use one variable to hold the airport name and another variable to hold the airport code. Display the airport's name and code to the screen.\n",
        "\n",
        "Sample output:\n",
        "```\n",
        "The code for O’Hare International Airport is ORD.\n",
        "The code for Los Angeles International Airport is LAX.\n",
        "The code for Dallas/Fort Worth International Airport is DFW.\n",
        "The code for Denver International Airport is DEN.\n",
        "```\n",
        "\n"
      ]
    },
    {
      "cell_type": "code",
      "metadata": {
        "id": "nKBIuZVldCwV",
        "outputId": "78dd8b8c-c0c2-4021-cc04-2ff75e210eb5",
        "colab": {
          "base_uri": "https://localhost:8080/",
          "height": 85
        }
      },
      "source": [
        "airportList = [('O`Hare International Airport','ORD'),\n",
        "               ('Los Angeles International Airport','LAX'),\n",
        "               ('Dallas/Fort Worth International Airport','DFW'),\n",
        "               ('Denver International Airport','DEN')]\n",
        "for (airportName, airportCode) in airportList :\n",
        "    print('The code for', airportName, 'is', airportCode)"
      ],
      "execution_count": 17,
      "outputs": [
        {
          "output_type": "stream",
          "text": [
            "The code for O`Hare International Airport is ORD\n",
            "The code for Los Angeles International Airport is LAX\n",
            "The code for Dallas/Fort Worth International Airport is DFW\n",
            "The code for Denver International Airport is DEN\n"
          ],
          "name": "stdout"
        }
      ]
    },
    {
      "cell_type": "markdown",
      "metadata": {
        "id": "sPCZ4EaZeoGA"
      },
      "source": [
        "## Exercise 8:\n",
        "Create a dictionary that contains a list of people and one interesting fact about each of them. Display each person and their interesting fact to the screen. Next, change a fact about one of the people. Also add an additional person and corresponding fact. Display the new list of people and facts. Run the program multiple times and notice if the order changes.\n",
        "\n",
        "Sample output:\n",
        "```\n",
        "Jeff: Is afraid of clowns.\n",
        "David: Plays the piano.\n",
        "Jason: Can fly an airplane.\n",
        "\n",
        "Jeff: Is afraid of heights.\n",
        "David: Plays the piano.\n",
        "Jason: Can fly an airplane.\n",
        "Jill: Can hula dance.\n",
        "```\n",
        "\n",
        "\n"
      ]
    },
    {
      "cell_type": "code",
      "metadata": {
        "id": "kZ9RqetUfFhU",
        "outputId": "74dcf225-333e-4dc8-9c0e-eaf34d2ba65a",
        "colab": {
          "base_uri": "https://localhost:8080/",
          "height": 153
        }
      },
      "source": [
        "peopleInterestDict = { 'Jeff' : 'Is afraid of clowns.', 'David':'Play the piano.', 'Jason':'Can fly an airplane'}\n",
        "# displaying the people interest dictionary\n",
        "for personName, personFact in peopleInterestDict.items():\n",
        "    print(personName, ':', personFact)\n",
        "\n",
        "# changing the interest of one of the person Jeff from Is afraid of clowns to Is afraid of heights\n",
        "peopleInterestDict['Jeff'] = 'Is afraid of heights'\n",
        "\n",
        "# adding new person to the dictionary\n",
        "peopleInterestDict['Jill'] = 'Can hula dance'\n",
        "\n",
        "print()\n",
        "# re-displaying the updated people interest disctionary\n",
        "for personName, personFact in peopleInterestDict.items():\n",
        "    print(personName, ':', personFact)"
      ],
      "execution_count": 22,
      "outputs": [
        {
          "output_type": "stream",
          "text": [
            "Jeff : Is afraid of clowns.\n",
            "David : Play the piano.\n",
            "Jason : Can fly an airplane\n",
            "\n",
            "Jeff : Is afraid of heights\n",
            "David : Play the piano.\n",
            "Jason : Can fly an airplane\n",
            "Jill : Can hula dance\n"
          ],
          "name": "stdout"
        }
      ]
    }
  ]
}